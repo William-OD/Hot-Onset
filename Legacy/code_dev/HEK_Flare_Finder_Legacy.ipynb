{
 "cells": [
  {
   "cell_type": "markdown",
   "metadata": {},
   "source": [
    "## Finding Flare data from HEK"
   ]
  },
  {
   "cell_type": "code",
   "execution_count": null,
   "metadata": {},
   "outputs": [],
   "source": [
    "#Find the min and max dates of the directory\n",
    "dates = []\n",
    "for f in os.listdir(data_dir):\n",
    "    if f.__contains__('.nc') and f.__contains__('sci_gxrs-l2-irrad_g15_'):\n",
    "        match = re.search(r'd(\\d{8})', f)\n",
    "        date_str = match.group(1)\n",
    "        date = datetime.strptime(date_str, '%Y%m%d')\n",
    "        dates.append(date)\n",
    "    else:\n",
    "        continue\n",
    "datetime_array = np.array(dates, dtype='datetime64[s]')\n",
    "first_date = min(datetime_array)\n",
    "last_date = Time(max(datetime_array)) + TimeDelta(1, format = 'jd') - TimeDelta(1, format ='sec')\n",
    "fl_search = a.Time(first_date, last_date)\n",
    "\n",
    "res = Fido.search(fl_search, a.hek.EventType(\"FL\"), a.hek.FL.GOESCls > \"B1.0\", a.hek.FRM.Name == \"SSW Latest Events\")\n",
    "#res = Fido.search(tsearch,a.hek.EventType(\"FL\"),a.hek.FL.GOESCls > \"C1.0\",a.hek.OBS.Observatory == \"GOES\")\n",
    "# res = Fido.search(tsearch,a.hek.EventType(\"FL\"),a.hek.OBS.Observatory == \"GOES\")\n",
    "fullres = res[\"hek\"]\n",
    "\n",
    "# Reduce the table down to just the info we want\n",
    "srch_res = fullres[\"event_starttime\", \"event_peaktime\",\n",
    "                        \"event_endtime\", \"fl_goescls\", \"hpc_x\", \"hpc_y\", \"ar_noaanum\"]\n",
    "                        # More stuff that could be useful, Heliographic lat lon, and where from\n",
    "                        # \"event_endtime\", \"fl_goescls\", \"hpc_x\", \"hpc_y\", \"ar_noaanum\", \"hgc_x\", \"hgc_y\", \"frm_name\"]\n",
    "\n",
    "print(f\"Total Number of flares in period: {len(srch_res)}\")\n",
    "print(\"\")\n",
    "srch_res.write(\"Jan_2016_flares.csv\", overwrite = True, format=\"csv\")"
   ]
  }
 ],
 "metadata": {
  "kernelspec": {
   "display_name": "hot_onsets",
   "language": "python",
   "name": "python3"
  },
  "language_info": {
   "name": "python",
   "version": "3.10.7"
  },
  "orig_nbformat": 4,
  "vscode": {
   "interpreter": {
    "hash": "62a2b8ad637c63baaf45e2cce9d4a159ca450ba6124aa82e6d4dc02e44296dbd"
   }
  }
 },
 "nbformat": 4,
 "nbformat_minor": 2
}
