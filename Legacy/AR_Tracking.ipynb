{
 "cells": [
  {
   "cell_type": "code",
   "execution_count": 1,
   "metadata": {},
   "outputs": [],
   "source": [
    "import numpy as np\n",
    "import matplotlib\n",
    "import matplotlib.pyplot as plt\n",
    "import os\n",
    "import pandas as pd"
   ]
  },
  {
   "cell_type": "code",
   "execution_count": 2,
   "metadata": {},
   "outputs": [
    {
     "name": "stderr",
     "output_type": "stream",
     "text": [
      "C:\\Users\\William\\AppData\\Local\\Temp\\ipykernel_15556\\2783109312.py:6: UserWarning: Boolean Series key will be reindexed to match DataFrame index.\n",
      "  full_data4 = full_data3[full_data3['Proximity Flag'] == False][full_data3['Peak EM Long'] < 7e50]\n"
     ]
    }
   ],
   "source": [
    "full_data0 = pd.read_csv(\"Full_Run_v5.csv\")\n",
    "#full_data = pd.read_csv(\"2016_Flare_data_processed_9_avg.csv\")\n",
    "full_datal = full_data0[~full_data0['fl_goescls'].astype(str).str.contains(\"B\")]#[~full_data0['fl_goescls'].astype(str).str.contains(\"C\")]\n",
    "full_data2 = full_datal.dropna(subset=['event_peaktime'])\n",
    "full_data3 = full_data2#[full_data2['Peak Flux'] > 1e-6]\n",
    "full_data4 = full_data3[full_data3['Proximity Flag'] == False][full_data3['Peak EM Long'] < 7e50]\n",
    "full_data5 = full_data4.drop(['Flare Max Temp', 'Flare Max EM'], axis = 1)\n",
    "full_data = full_data5.dropna()"
   ]
  },
  {
   "cell_type": "code",
   "execution_count": 15,
   "metadata": {},
   "outputs": [
    {
     "data": {
      "image/png": "[encoded data removed]",
      "text/plain": [
       "<Figure size 640x480 with 1 Axes>"
      ]
     },
     "metadata": {},
     "output_type": "display_data"
    }
   ],
   "source": [
    "plt.hist(full_data['ar_noaanum'], bins = 1000)\n",
    "plt.ylim([0,100])\n",
    "plt.show()"
   ]
  },
  {
   "cell_type": "code",
   "execution_count": 26,
   "metadata": {},
   "outputs": [
    {
     "name": "stdout",
     "output_type": "stream",
     "text": [
      "ar_noaanum\n",
      "Unnamed: 0.1    5171\n",
      "dtype: int64\n"
     ]
    }
   ],
   "source": [
    "# Group the flares by their associated AR numbers, and get the count of flares for each group\n",
    "counts = full_data.groupby(full_data['ar_noaanum']).size()\n",
    "\n",
    "print(counts)\n",
    "\n",
    "# # Sort the active regions based on their flare count\n",
    "# sorted_ars = counts.sort_values(ascending=False).index\n",
    "\n",
    "# # Select the top 5 active regions\n",
    "# top_5_ars = sorted_ars[:5]\n",
    "\n",
    "# print(top_5_ars)\n",
    "\n",
    "# print(\"Top 5 most active active regions:\")\n",
    "# for i, ar in enumerate(top_5_ars, 1):\n",
    "#     print(f\"{i}. {ar}: {counts[ar]} flares\")"
   ]
  }
 ],
 "metadata": {
  "kernelspec": {
   "display_name": "Python 3",
   "language": "python",
   "name": "python3"
  },
  "language_info": {
   "codemirror_mode": {
    "name": "ipython",
    "version": 3
   },
   "file_extension": ".py",
   "mimetype": "text/x-python",
   "name": "python",
   "nbconvert_exporter": "python",
   "pygments_lexer": "ipython3",
   "version": "3.10.7"
  },
  "orig_nbformat": 4,
  "vscode": {
   "interpreter": {
    "hash": "15f7fb6bfa40f6d98bec429272306fda6b1744d745c4cccbf28593f1f78abeba"
   }
  }
 },
 "nbformat": 4,
 "nbformat_minor": 2
}
