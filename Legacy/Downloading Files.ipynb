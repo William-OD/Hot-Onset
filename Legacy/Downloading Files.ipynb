{
 "cells": [
  {
   "cell_type": "code",
   "execution_count": 1,
   "metadata": {},
   "outputs": [],
   "source": [
    "import numpy as np\n",
    "import matplotlib\n",
    "import matplotlib.pyplot as plt\n",
    "from matplotlib.pyplot import cm\n",
    "import re\n",
    "\n",
    "from scipy.io import readsav\n",
    "\n",
    "from astropy.time import Time\n",
    "from astropy.time import TimeDelta\n",
    "\n",
    "from sunpy import timeseries as ts\n",
    "from sunpy.net import attrs as a\n",
    "from sunpy.net import Fido\n",
    "from sunpy.time import parse_time, find_time\n",
    "\n",
    "import pandas as pd\n",
    "\n",
    "import goesxrs_temp as gtem #from Ian's functions\n",
    "from Onsets_temp import *\n",
    "\n",
    "# Just setup plot fonts\n",
    "plt.rcParams.update({'font.size': 18,'font.family':\"sans-serif\",\\\n",
    "                         'font.sans-serif':\"Arial\",'mathtext.default':\"regular\", 'axes.linewidth' : 2})"
   ]
  },
  {
   "cell_type": "code",
   "execution_count": null,
   "metadata": {},
   "outputs": [],
   "source": [
    "tsearch=a.Time(\"2015-01-01\",\"2015-01-10\")"
   ]
  },
  {
   "cell_type": "markdown",
   "metadata": {},
   "source": [
    "## Choosing a Flare to analyse\n",
    "\n",
    "##### First choose a time range (day) to look at. Returns all flares of all classes detected during that period."
   ]
  },
  {
   "cell_type": "markdown",
   "metadata": {},
   "source": [
    "### Downloading GOES Data\n",
    "\n",
    "We want to download this flare data if we haven't got it downloaded already. So we search our directory first, then we download if it is not present. (Set up for GOES-15 2s data)"
   ]
  },
  {
   "cell_type": "code",
   "execution_count": null,
   "metadata": {},
   "outputs": [],
   "source": [
    "data_dir = r\"C:\\Users\\William\\Documents\\University\\MastersProj\\Data\\Run_1\" #data directory"
   ]
  },
  {
   "cell_type": "code",
   "execution_count": null,
   "metadata": {},
   "outputs": [],
   "source": [
    "def data_download(fl_data):\n",
    "    print(\"{0} with peak time at: {1}\".format(fl_data[\"fl_goescls\"], fl_data[\"event_peaktime\"]))\n",
    "\n",
    "    # # Want data for +/-10 mins of flare, using astopy time to do this\n",
    "    # gtstart=Time(fl_data[\"event_starttime\"],scale='utc')-TimeDelta(10*60,format='sec')\n",
    "    # gtend=Time(fl_data[\"event_endtime\"],scale='utc')+TimeDelta(10*60,format='sec')\n",
    "\n",
    "    # # Search and get the XRS data\n",
    "    # tflrange=a.Time(gtstart.iso,gtend.iso)\n",
    "    # rg15 = Fido.search(tflrange, a.hek.EventType(\"FL\"), a.hek.FL.GOESCls > \"C1.0\", a.hek.FRM.Name == \"SSW Latest Events\")\n",
    "    # print(len(rg15))\n",
    "    fg15 = Fido.fetch(fl_data, path=data_dir)"
   ]
  },
  {
   "cell_type": "code",
   "execution_count": null,
   "metadata": {},
   "outputs": [
    {
     "name": "stdout",
     "output_type": "stream",
     "text": [
      "Total Number of flares in period: 65\n",
      "\n",
      "    event_starttime          event_peaktime     ...    hpc_y    ar_noaanum\n",
      "----------------------- ----------------------- ... ----------- ----------\n",
      "2014-12-31 23:02:00.000 2014-12-31 23:39:00.000 ...   -55.47726       2253\n",
      "2015-01-01 04:57:00.000 2015-01-01 05:00:00.000 ...    -69.4254       2253\n",
      "2015-01-01 07:22:00.000 2015-01-01 07:30:00.000 ...   -51.59418       2253\n",
      "2015-01-01 19:03:00.000 2015-01-01 19:05:00.000 ...   -44.10774       2253\n",
      "2015-01-02 19:35:00.000 2015-01-02 19:38:00.000 ... -52.8042552       2253\n",
      "2015-01-02 19:47:00.000 2015-01-02 19:48:00.000 ...   -316.0818       2248\n",
      "2015-01-03 01:13:00.000 2015-01-03 01:17:00.000 ...   -34.21584       2253\n",
      "2015-01-03 05:52:00.000 2015-01-03 05:54:00.000 ...   -33.20418       2253\n",
      "2015-01-03 05:52:00.000 2015-01-03 05:57:00.000 ...   -32.90022       2253\n",
      "2015-01-03 06:01:00.000 2015-01-03 06:03:00.000 ...   -33.19254       2253\n",
      "                    ...                     ... ...         ...        ...\n",
      "2015-01-08 00:20:00.000 2015-01-08 00:24:00.000 ...    -283.491          0\n",
      "2015-01-08 04:11:00.000 2015-01-08 04:13:00.000 ...   -184.5984       2251\n",
      "2015-01-08 04:25:00.000 2015-01-08 04:34:00.000 ... -105.291288       2253\n",
      "2015-01-08 15:41:00.000 2015-01-08 15:48:00.000 ...    306.8004       2258\n",
      "2015-01-08 19:58:00.000 2015-01-08 20:10:00.000 ...   -265.4718       2259\n",
      "2015-01-09 05:46:00.000 2015-01-09 05:53:00.000 ...    -258.138       2259\n",
      "2015-01-09 05:46:00.000 2015-01-09 05:54:00.000 ...   -259.1304       2259\n",
      "2015-01-09 08:04:00.000 2015-01-09 08:17:00.000 ...    182.5758       2257\n",
      "2015-01-09 17:26:00.000 2015-01-09 17:48:00.000 ...    197.1072       2257\n",
      "2015-01-09 18:42:00.000 2015-01-09 18:53:00.000 ...   -193.0488       2259\n",
      "2015-01-09 22:16:00.000 2015-01-09 22:28:00.000 ...    179.6688       2257\n",
      "Length = 65 rows\n"
     ]
    }
   ],
   "source": [
    "res = Fido.search(tsearch, a.hek.EventType(\"FL\"), a.hek.FL.GOESCls > \"C1.0\", a.hek.FRM.Name == \"SSW Latest Events\")\n",
    "#res = Fido.search(tsearch,a.hek.EventType(\"FL\"),a.hek.FL.GOESCls > \"C1.0\",a.hek.OBS.Observatory == \"GOES\")\n",
    "# res = Fido.search(tsearch,a.hek.EventType(\"FL\"),a.hek.OBS.Observatory == \"GOES\")\n",
    "fullres = res[\"hek\"]\n",
    "\n",
    "# Reduce the table down to just the info we want\n",
    "srch_res = fullres[\"event_starttime\", \"event_peaktime\",\n",
    "                        \"event_endtime\", \"fl_goescls\", \"hpc_x\", \"hpc_y\", \"ar_noaanum\"]\n",
    "                        # More stuff that could be useful, Heliographic lat lon, and where from\n",
    "                        # \"event_endtime\", \"fl_goescls\", \"hpc_x\", \"hpc_y\", \"ar_noaanum\", \"hgc_x\", \"hgc_y\", \"frm_name\"]\n",
    "\n",
    "\n",
    "print(f\"Total Number of flares in period: {len(srch_res)}\")\n",
    "print(\"\")\n",
    "\n",
    "print(srch_res)\n"
   ]
  },
  {
   "cell_type": "code",
   "execution_count": null,
   "metadata": {},
   "outputs": [
    {
     "name": "stdout",
     "output_type": "stream",
     "text": [
      "File does not exist.... Downloading file....\n",
      "C1.2 with peak time at: 2014-12-31 23:39:00.000\n"
     ]
    },
    {
     "ename": "ValueError",
     "evalue": "Query result has an unrecognized type: <class 'sunpy.net.hek.hek.HEKRow'> Allowed types are QueryResponseRow, QueryResponseTable or UnifiedResponse.",
     "output_type": "error",
     "traceback": [
      "\u001b[1;31m---------------------------------------------------------------------------\u001b[0m",
      "\u001b[1;31mValueError\u001b[0m                                Traceback (most recent call last)",
      "Cell \u001b[1;32mIn [62], line 16\u001b[0m\n\u001b[0;32m     15\u001b[0m \u001b[39mtry\u001b[39;00m:\n\u001b[1;32m---> 16\u001b[0m     ts\u001b[39m.\u001b[39;49mTimeSeries(fl_path, concatenate\u001b[39m=\u001b[39;49m\u001b[39mTrue\u001b[39;49;00m)\n\u001b[0;32m     17\u001b[0m     \u001b[39mprint\u001b[39m(\u001b[39m\"\u001b[39m\u001b[39mFile Exists\u001b[39m\u001b[39m\"\u001b[39m)\n",
      "File \u001b[1;32mc:\\Users\\William\\Documents\\University\\MastersProj\\hot_onset\\lib\\site-packages\\sunpy\\timeseries\\timeseries_factory.py:430\u001b[0m, in \u001b[0;36mTimeSeriesFactory.__call__\u001b[1;34m(self, silence_errors, *args, **kwargs)\u001b[0m\n\u001b[0;32m    429\u001b[0m \u001b[39mself\u001b[39m\u001b[39m.\u001b[39msilence_errors \u001b[39m=\u001b[39m silence_errors\n\u001b[1;32m--> 430\u001b[0m new_timeseries \u001b[39m=\u001b[39m \u001b[39mself\u001b[39m\u001b[39m.\u001b[39m_parse_args(\u001b[39m*\u001b[39margs, \u001b[39m*\u001b[39m\u001b[39m*\u001b[39mkwargs)\n\u001b[0;32m    432\u001b[0m \u001b[39m# Concatenate the timeseries into one if specified.\u001b[39;00m\n",
      "File \u001b[1;32mc:\\Users\\William\\Documents\\University\\MastersProj\\hot_onset\\lib\\site-packages\\sunpy\\timeseries\\timeseries_factory.py:328\u001b[0m, in \u001b[0;36mTimeSeriesFactory._parse_args\u001b[1;34m(self, *args, **kwargs)\u001b[0m\n\u001b[0;32m    327\u001b[0m \u001b[39mtry\u001b[39;00m:\n\u001b[1;32m--> 328\u001b[0m     all_ts \u001b[39m+\u001b[39m\u001b[39m=\u001b[39m \u001b[39mself\u001b[39m\u001b[39m.\u001b[39m_parse_arg(arg, \u001b[39m*\u001b[39m\u001b[39m*\u001b[39mkwargs)\n\u001b[0;32m    329\u001b[0m \u001b[39mexcept\u001b[39;00m (NoMatchError, MultipleMatchError, ValidationFunctionError):\n",
      "File \u001b[1;32mc:\\Users\\William\\Documents\\University\\MastersProj\\hot_onset\\lib\\site-packages\\sunpy\\util\\functools.py:18\u001b[0m, in \u001b[0;36mseconddispatch.<locals>.wrapper\u001b[1;34m(*args, **kwargs)\u001b[0m\n\u001b[0;32m     17\u001b[0m \u001b[39mdef\u001b[39;00m \u001b[39mwrapper\u001b[39m(\u001b[39m*\u001b[39margs, \u001b[39m*\u001b[39m\u001b[39m*\u001b[39mkwargs):\n\u001b[1;32m---> 18\u001b[0m     \u001b[39mreturn\u001b[39;00m dispatcher\u001b[39m.\u001b[39mdispatch(args[\u001b[39m1\u001b[39m]\u001b[39m.\u001b[39m\u001b[39m__class__\u001b[39m)(\u001b[39m*\u001b[39margs, \u001b[39m*\u001b[39m\u001b[39m*\u001b[39mkwargs)\n",
      "File \u001b[1;32mc:\\Users\\William\\Documents\\University\\MastersProj\\hot_onset\\lib\\site-packages\\sunpy\\timeseries\\timeseries_factory.py:357\u001b[0m, in \u001b[0;36mTimeSeriesFactory._parse_path\u001b[1;34m(self, path, **kwargs)\u001b[0m\n\u001b[0;32m    355\u001b[0m \u001b[39m@_parse_arg\u001b[39m\u001b[39m.\u001b[39mregister(pathlib\u001b[39m.\u001b[39mPath)\n\u001b[0;32m    356\u001b[0m \u001b[39mdef\u001b[39;00m \u001b[39m_parse_path\u001b[39m(\u001b[39mself\u001b[39m, path, \u001b[39m*\u001b[39m\u001b[39m*\u001b[39mkwargs):\n\u001b[1;32m--> 357\u001b[0m     results \u001b[39m=\u001b[39m parse_path(path, \u001b[39mself\u001b[39;49m\u001b[39m.\u001b[39;49m_read_file)\n\u001b[0;32m    358\u001b[0m     all_ts \u001b[39m=\u001b[39m []\n",
      "File \u001b[1;32mc:\\Users\\William\\Documents\\University\\MastersProj\\hot_onset\\lib\\site-packages\\sunpy\\util\\io.py:41\u001b[0m, in \u001b[0;36mparse_path\u001b[1;34m(path, f, **kwargs)\u001b[0m\n\u001b[0;32m     40\u001b[0m \u001b[39melse\u001b[39;00m:\n\u001b[1;32m---> 41\u001b[0m     \u001b[39mraise\u001b[39;00m \u001b[39mValueError\u001b[39;00m(\u001b[39mf\u001b[39m\u001b[39m'\u001b[39m\u001b[39mDid not find any files at \u001b[39m\u001b[39m{\u001b[39;00mpath\u001b[39m}\u001b[39;00m\u001b[39m'\u001b[39m)\n",
      "\u001b[1;31mValueError\u001b[0m: Did not find any files at C:\\Users\\William\\Documents\\University\\MastersProj\\Data\\Run_1\\*g15*20141231*.nc",
      "\nDuring handling of the above exception, another exception occurred:\n",
      "\u001b[1;31mValueError\u001b[0m                                Traceback (most recent call last)",
      "Cell \u001b[1;32mIn [62], line 20\u001b[0m\n\u001b[0;32m     18\u001b[0m \u001b[39mexcept\u001b[39;00m \u001b[39mValueError\u001b[39;00m:\n\u001b[0;32m     19\u001b[0m     \u001b[39mprint\u001b[39m(\u001b[39m\"\u001b[39m\u001b[39mFile does not exist.... Downloading file....\u001b[39m\u001b[39m\"\u001b[39m)\n\u001b[1;32m---> 20\u001b[0m     data_download(fl)\n\u001b[0;32m     21\u001b[0m     fg15 \u001b[39m=\u001b[39m Fido\u001b[39m.\u001b[39mfetch(fl, path\u001b[39m=\u001b[39mdata_dir)\n",
      "Cell \u001b[1;32mIn [56], line 12\u001b[0m, in \u001b[0;36mdata_download\u001b[1;34m(fl_data)\u001b[0m\n\u001b[0;32m      2\u001b[0m \u001b[39mprint\u001b[39m(\u001b[39m\"\u001b[39m\u001b[39m{0}\u001b[39;00m\u001b[39m with peak time at: \u001b[39m\u001b[39m{1}\u001b[39;00m\u001b[39m\"\u001b[39m\u001b[39m.\u001b[39mformat(fl_data[\u001b[39m\"\u001b[39m\u001b[39mfl_goescls\u001b[39m\u001b[39m\"\u001b[39m], fl_data[\u001b[39m\"\u001b[39m\u001b[39mevent_peaktime\u001b[39m\u001b[39m\"\u001b[39m]))\n\u001b[0;32m      4\u001b[0m \u001b[39m# # Want data for +/-10 mins of flare, using astopy time to do this\u001b[39;00m\n\u001b[0;32m      5\u001b[0m \u001b[39m# gtstart=Time(fl_data[\"event_starttime\"],scale='utc')-TimeDelta(10*60,format='sec')\u001b[39;00m\n\u001b[0;32m      6\u001b[0m \u001b[39m# gtend=Time(fl_data[\"event_endtime\"],scale='utc')+TimeDelta(10*60,format='sec')\u001b[39;00m\n\u001b[1;32m   (...)\u001b[0m\n\u001b[0;32m     10\u001b[0m \u001b[39m# rg15 = Fido.search(tflrange, a.hek.EventType(\"FL\"), a.hek.FL.GOESCls > \"C1.0\", a.hek.FRM.Name == \"SSW Latest Events\")\u001b[39;00m\n\u001b[0;32m     11\u001b[0m \u001b[39m# print(len(rg15))\u001b[39;00m\n\u001b[1;32m---> 12\u001b[0m fg15 \u001b[39m=\u001b[39m Fido\u001b[39m.\u001b[39;49mfetch(fl_data, path\u001b[39m=\u001b[39;49mdata_dir)\n",
      "File \u001b[1;32mc:\\Users\\William\\Documents\\University\\MastersProj\\hot_onset\\lib\\site-packages\\sunpy\\net\\fido_factory.py:423\u001b[0m, in \u001b[0;36mUnifiedDownloaderFactory.fetch\u001b[1;34m(self, path, max_conn, progress, overwrite, downloader, *query_results, **kwargs)\u001b[0m\n\u001b[0;32m    421\u001b[0m     responses \u001b[39m=\u001b[39m query_result\n\u001b[0;32m    422\u001b[0m \u001b[39melse\u001b[39;00m:\n\u001b[1;32m--> 423\u001b[0m     \u001b[39mraise\u001b[39;00m \u001b[39mValueError\u001b[39;00m(\u001b[39mf\u001b[39m\u001b[39m\"\u001b[39m\u001b[39mQuery result has an unrecognized type: \u001b[39m\u001b[39m{\u001b[39;00m\u001b[39mtype\u001b[39m(query_result)\u001b[39m}\u001b[39;00m\u001b[39m \u001b[39m\u001b[39m\"\u001b[39m\n\u001b[0;32m    424\u001b[0m                      \u001b[39m\"\u001b[39m\u001b[39mAllowed types are QueryResponseRow, QueryResponseTable or UnifiedResponse.\u001b[39m\u001b[39m\"\u001b[39m)\n\u001b[0;32m    425\u001b[0m \u001b[39mfor\u001b[39;00m block \u001b[39min\u001b[39;00m responses:\n\u001b[0;32m    426\u001b[0m     result \u001b[39m=\u001b[39m block\u001b[39m.\u001b[39mclient\u001b[39m.\u001b[39mfetch(block, path\u001b[39m=\u001b[39mpath,\n\u001b[0;32m    427\u001b[0m                                 downloader\u001b[39m=\u001b[39mdownloader,\n\u001b[0;32m    428\u001b[0m                                 wait\u001b[39m=\u001b[39m\u001b[39mFalse\u001b[39;00m, \u001b[39m*\u001b[39m\u001b[39m*\u001b[39mkwargs)\n",
      "\u001b[1;31mValueError\u001b[0m: Query result has an unrecognized type: <class 'sunpy.net.hek.hek.HEKRow'> Allowed types are QueryResponseRow, QueryResponseTable or UnifiedResponse."
     ]
    }
   ],
   "source": [
    "start_t =[]\n",
    "peak_t=[]\n",
    "end_t=[]\n",
    "goes_class=[]\n",
    "hpc_x=[]\n",
    "hpc_y=[]\n",
    "ar_num=[]\n",
    "\n",
    "for fl in srch_res:\n",
    "    #fetching the date 'YYYYMMDD' in string format fron the start date put in earlier\n",
    "    day_string = Time(fl[\"event_starttime\"],scale='utc').datetime.date().strftime(\"%Y%m%d\")\n",
    "    fl_path = os.path.join(data_dir,f'*g15*{day_string}*.nc')\n",
    "\n",
    "    #tries to load in the file, if it does not exist, it will download it.\n",
    "    try:\n",
    "        ts.TimeSeries(fl_path, concatenate=True)\n",
    "        print(\"File Exists\")\n",
    "    except ValueError:\n",
    "        print(\"File does not exist.... Downloading file....\")\n",
    "        data_download(fl)\n",
    "        fg15 = Fido.fetch(fl, path=data_dir)\n",
    "        "
   ]
  }
 ],
 "metadata": {
  "kernelspec": {
   "display_name": "hot_onsets",
   "language": "python",
   "name": "python3"
  },
  "language_info": {
   "codemirror_mode": {
    "name": "ipython",
    "version": 3
   },
   "file_extension": ".py",
   "mimetype": "text/x-python",
   "name": "python",
   "nbconvert_exporter": "python",
   "pygments_lexer": "ipython3",
   "version": "3.10.7"
  },
  "orig_nbformat": 4,
  "vscode": {
   "interpreter": {
    "hash": "62a2b8ad637c63baaf45e2cce9d4a159ca450ba6124aa82e6d4dc02e44296dbd"
   }
  }
 },
 "nbformat": 4,
 "nbformat_minor": 2
}
