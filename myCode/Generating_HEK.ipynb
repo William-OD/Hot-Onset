{
 "cells": [
  {
   "cell_type": "code",
   "execution_count": 10,
   "metadata": {},
   "outputs": [],
   "source": [
    "import os\n",
    "import pandas as pd\n",
    "import numpy as np\n",
    "import re\n",
    "\n",
    "import matplotlib.pyplot as plt\n",
    "\n",
    "from datetime import datetime\n",
    "from astropy.time import Time\n",
    "from astropy.time import TimeDelta\n",
    "\n",
    "from sunpy import timeseries as ts\n",
    "from sunpy.net import attrs as a\n",
    "from sunpy.net import hek\n",
    "from sunpy.net import Fido\n",
    "from sunpy.time import parse_time, find_time"
   ]
  },
  {
   "cell_type": "code",
   "execution_count": 11,
   "metadata": {},
   "outputs": [],
   "source": [
    "data_dir = r\"D:\\MastersProj\\Data\\goes15\""
   ]
  },
  {
   "attachments": {},
   "cell_type": "markdown",
   "metadata": {},
   "source": [
    "### Get a list of files that are available (since we have them all downloaded), and then search the HEK database for these. Don't need to rerun this cell"
   ]
  },
  {
   "cell_type": "code",
   "execution_count": 12,
   "metadata": {},
   "outputs": [],
   "source": [
    "dates = []\n",
    "for root, dirs, files in os.walk(data_dir):\n",
    "    for f in files:\n",
    "        if f.__contains__('.nc') and f.__contains__('sci_gxrs-l2-irrad_g15_d'):\n",
    "            match = re.search(r'd(\\d{8})', f)\n",
    "            date_str = match.group(1)\n",
    "            date = datetime.strptime(date_str, '%Y%m%d')\n",
    "            dates.append(date)\n",
    "\n",
    "datetime_array = np.array(dates, dtype='datetime64[s]')\n",
    "\n",
    "first_date = min(datetime_array)\n",
    "last_date = Time(max(datetime_array)) + TimeDelta(1, format = 'jd') - TimeDelta(1, format ='sec')\n",
    "fl_search = a.Time(first_date, last_date)"
   ]
  },
  {
   "cell_type": "code",
   "execution_count": 13,
   "metadata": {},
   "outputs": [
    {
     "name": "stdout",
     "output_type": "stream",
     "text": [
      "Total Number of flares in period: 16099\n",
      "\n"
     ]
    }
   ],
   "source": [
    "#### Search database for ALL goes flares\n",
    "res = Fido.search(fl_search, a.hek.EventType(\"FL\"), a.hek.FRM.Name == \"SSW Latest Events\")\n",
    "fullres = res[\"hek\"]\n",
    "\n",
    "#### Reduce the table down to just the info we want\n",
    "srch_res = fullres[\"event_starttime\", \"event_peaktime\",\n",
    "                        \"event_endtime\", \"fl_goescls\", \"hpc_x\", \"hpc_y\", \"hgc_x\", \"hgc_y\",\"hgs_x\", \"hgs_y\",\"event_score\",\"sum_overlap_scores\",\"ar_noaanum\"]\n",
    "                        # More stuff that could be useful, Heliographic lat lon, and where from\n",
    "                        #[\"hgc_x\", \"hgc_y\", \"frm_name\"]\n",
    "\n",
    "print(f\"Total Number of flares in period: {len(srch_res)}\")\n",
    "print(\"\")\n",
    "srch_res.write(\"GOES15_HEK_Data_SSW.csv\", overwrite = True, format=\"csv\")"
   ]
  },
  {
   "cell_type": "code",
   "execution_count": 76,
   "metadata": {},
   "outputs": [
    {
     "ename": "KeyboardInterrupt",
     "evalue": "",
     "output_type": "error",
     "traceback": [
      "\u001b[1;31m---------------------------------------------------------------------------\u001b[0m",
      "\u001b[1;31mKeyboardInterrupt\u001b[0m                         Traceback (most recent call last)",
      "Cell \u001b[1;32mIn[76], line 2\u001b[0m\n\u001b[0;32m      1\u001b[0m \u001b[39m#### Search database for ALL goes flares\u001b[39;00m\n\u001b[1;32m----> 2\u001b[0m res \u001b[39m=\u001b[39m Fido\u001b[39m.\u001b[39;49msearch(fl_search, a\u001b[39m.\u001b[39;49mhek\u001b[39m.\u001b[39;49mEventType(\u001b[39m\"\u001b[39;49m\u001b[39mFL\u001b[39;49m\u001b[39m\"\u001b[39;49m), a\u001b[39m.\u001b[39;49mhek\u001b[39m.\u001b[39;49mFRM\u001b[39m.\u001b[39;49mName \u001b[39m!=\u001b[39;49m \u001b[39m\"\u001b[39;49m\u001b[39mSSW Latest Events\u001b[39;49m\u001b[39m\"\u001b[39;49m)\n\u001b[0;32m      3\u001b[0m fullres \u001b[39m=\u001b[39m res[\u001b[39m\"\u001b[39m\u001b[39mhek\u001b[39m\u001b[39m\"\u001b[39m]\n\u001b[0;32m      5\u001b[0m \u001b[39m#### Reduce the table down to just the info we want\u001b[39;00m\n",
      "File \u001b[1;32mc:\\Users\\William\\Documents\\University\\MastersProj\\hot_onsets\\lib\\site-packages\\sunpy\\net\\fido_factory.py:312\u001b[0m, in \u001b[0;36mUnifiedDownloaderFactory.search\u001b[1;34m(self, *query)\u001b[0m\n\u001b[0;32m    266\u001b[0m \u001b[39m\u001b[39m\u001b[39m\"\"\"\u001b[39;00m\n\u001b[0;32m    267\u001b[0m \u001b[39mQuery for data in form of multiple parameters.\u001b[39;00m\n\u001b[0;32m    268\u001b[0m \n\u001b[1;32m   (...)\u001b[0m\n\u001b[0;32m    309\u001b[0m \u001b[39mparts individually.\u001b[39;00m\n\u001b[0;32m    310\u001b[0m \u001b[39m\"\"\"\u001b[39;00m\n\u001b[0;32m    311\u001b[0m query \u001b[39m=\u001b[39m attr\u001b[39m.\u001b[39mand_(\u001b[39m*\u001b[39mquery)\n\u001b[1;32m--> 312\u001b[0m results \u001b[39m=\u001b[39m query_walker\u001b[39m.\u001b[39;49mcreate(query, \u001b[39mself\u001b[39;49m)\n\u001b[0;32m    314\u001b[0m \u001b[39m# If we have searched the VSO but no results were returned, but another\u001b[39;00m\n\u001b[0;32m    315\u001b[0m \u001b[39m# client generated results, we drop the empty VSO results for tidiness.\u001b[39;00m\n\u001b[0;32m    316\u001b[0m \u001b[39m# This is because the VSO _can_handle_query is very broad because we\u001b[39;00m\n\u001b[0;32m    317\u001b[0m \u001b[39m# don't know the full list of supported values we can search for (yet).\u001b[39;00m\n\u001b[0;32m    318\u001b[0m results \u001b[39m=\u001b[39m [r \u001b[39mfor\u001b[39;00m r \u001b[39min\u001b[39;00m results \u001b[39mif\u001b[39;00m \u001b[39mnot\u001b[39;00m \u001b[39misinstance\u001b[39m(r, vso\u001b[39m.\u001b[39mVSOQueryResponseTable) \u001b[39mor\u001b[39;00m \u001b[39mlen\u001b[39m(r) \u001b[39m>\u001b[39m \u001b[39m0\u001b[39m]\n",
      "File \u001b[1;32mc:\\Users\\William\\Documents\\University\\MastersProj\\hot_onsets\\lib\\site-packages\\sunpy\\net\\attr.py:613\u001b[0m, in \u001b[0;36mAttrWalker.create\u001b[1;34m(self, *args, **kwargs)\u001b[0m\n\u001b[0;32m    609\u001b[0m \u001b[39mdef\u001b[39;00m \u001b[39mcreate\u001b[39m(\u001b[39mself\u001b[39m, \u001b[39m*\u001b[39margs, \u001b[39m*\u001b[39m\u001b[39m*\u001b[39mkwargs):\n\u001b[0;32m    610\u001b[0m \u001b[39m    \u001b[39m\u001b[39m\"\"\"\u001b[39;00m\n\u001b[0;32m    611\u001b[0m \u001b[39m    Call the create function(s) matching the arguments to this method.\u001b[39;00m\n\u001b[0;32m    612\u001b[0m \u001b[39m    \"\"\"\u001b[39;00m\n\u001b[1;32m--> 613\u001b[0m     \u001b[39mreturn\u001b[39;00m \u001b[39mself\u001b[39m\u001b[39m.\u001b[39mcreatemm(\u001b[39mself\u001b[39m, \u001b[39m*\u001b[39margs, \u001b[39m*\u001b[39m\u001b[39m*\u001b[39mkwargs)\n",
      "File \u001b[1;32mc:\\Users\\William\\Documents\\University\\MastersProj\\hot_onsets\\lib\\site-packages\\sunpy\\util\\functools.py:18\u001b[0m, in \u001b[0;36mseconddispatch.<locals>.wrapper\u001b[1;34m(*args, **kwargs)\u001b[0m\n\u001b[0;32m     17\u001b[0m \u001b[39mdef\u001b[39;00m \u001b[39mwrapper\u001b[39m(\u001b[39m*\u001b[39margs, \u001b[39m*\u001b[39m\u001b[39m*\u001b[39mkwargs):\n\u001b[1;32m---> 18\u001b[0m     \u001b[39mreturn\u001b[39;00m dispatcher\u001b[39m.\u001b[39mdispatch(args[\u001b[39m1\u001b[39m]\u001b[39m.\u001b[39m\u001b[39m__class__\u001b[39m)(\u001b[39m*\u001b[39margs, \u001b[39m*\u001b[39m\u001b[39m*\u001b[39mkwargs)\n",
      "File \u001b[1;32mc:\\Users\\William\\Documents\\University\\MastersProj\\hot_onsets\\lib\\site-packages\\sunpy\\net\\fido_factory.py:241\u001b[0m, in \u001b[0;36m_create_and\u001b[1;34m(walker, query, factory)\u001b[0m\n\u001b[0;32m    239\u001b[0m \u001b[39m@query_walker\u001b[39m\u001b[39m.\u001b[39madd_creator(attr\u001b[39m.\u001b[39mAttrAnd)\n\u001b[0;32m    240\u001b[0m \u001b[39mdef\u001b[39;00m \u001b[39m_create_and\u001b[39m(walker, query, factory):\n\u001b[1;32m--> 241\u001b[0m     \u001b[39mreturn\u001b[39;00m factory\u001b[39m.\u001b[39;49m_make_query_to_client(\u001b[39m*\u001b[39;49mquery\u001b[39m.\u001b[39;49mattrs)\n",
      "File \u001b[1;32mc:\\Users\\William\\Documents\\University\\MastersProj\\hot_onsets\\lib\\site-packages\\sunpy\\net\\fido_factory.py:484\u001b[0m, in \u001b[0;36mUnifiedDownloaderFactory._make_query_to_client\u001b[1;34m(self, *query)\u001b[0m\n\u001b[0;32m    482\u001b[0m     \u001b[39mif\u001b[39;00m \u001b[39misinstance\u001b[39m(tmpclient, vso\u001b[39m.\u001b[39mVSOClient):\n\u001b[0;32m    483\u001b[0m         kwargs \u001b[39m=\u001b[39m \u001b[39mdict\u001b[39m(response_format\u001b[39m=\u001b[39m\u001b[39m\"\u001b[39m\u001b[39mtable\u001b[39m\u001b[39m\"\u001b[39m)\n\u001b[1;32m--> 484\u001b[0m     results\u001b[39m.\u001b[39mappend(tmpclient\u001b[39m.\u001b[39msearch(\u001b[39m*\u001b[39mquery, \u001b[39m*\u001b[39m\u001b[39m*\u001b[39mkwargs))\n\u001b[0;32m    486\u001b[0m \u001b[39m# This method is called by `search` and the results are fed into a\u001b[39;00m\n\u001b[0;32m    487\u001b[0m \u001b[39m# UnifiedResponse object.\u001b[39;00m\n\u001b[0;32m    488\u001b[0m \u001b[39mreturn\u001b[39;00m results\n",
      "File \u001b[1;32mc:\\Users\\William\\Documents\\University\\MastersProj\\hot_onsets\\lib\\site-packages\\sunpy\\net\\hek\\hek.py:131\u001b[0m, in \u001b[0;36mHEKClient.search\u001b[1;34m(self, *args, **kwargs)\u001b[0m\n\u001b[0;32m    129\u001b[0m     ndata\u001b[39m.\u001b[39mappend(new)\n\u001b[0;32m    130\u001b[0m \u001b[39mif\u001b[39;00m \u001b[39mlen\u001b[39m(ndata) \u001b[39m==\u001b[39m \u001b[39m1\u001b[39m:\n\u001b[1;32m--> 131\u001b[0m     \u001b[39mreturn\u001b[39;00m HEKTable(\u001b[39mself\u001b[39;49m\u001b[39m.\u001b[39;49m_download(ndata[\u001b[39m0\u001b[39;49m]), client\u001b[39m=\u001b[39m\u001b[39mself\u001b[39m)\n\u001b[0;32m    132\u001b[0m \u001b[39melse\u001b[39;00m:\n\u001b[0;32m    133\u001b[0m     \u001b[39mreturn\u001b[39;00m HEKTable(\u001b[39mself\u001b[39m\u001b[39m.\u001b[39m_merge(\u001b[39mself\u001b[39m\u001b[39m.\u001b[39m_download(data) \u001b[39mfor\u001b[39;00m data \u001b[39min\u001b[39;00m ndata), client\u001b[39m=\u001b[39m\u001b[39mself\u001b[39m)\n",
      "File \u001b[1;32mc:\\Users\\William\\Documents\\University\\MastersProj\\hot_onsets\\lib\\site-packages\\sunpy\\net\\hek\\hek.py:71\u001b[0m, in \u001b[0;36mHEKClient._download\u001b[1;34m(self, data)\u001b[0m\n\u001b[0;32m     69\u001b[0m url \u001b[39m=\u001b[39m \u001b[39mself\u001b[39m\u001b[39m.\u001b[39murl \u001b[39m+\u001b[39m urllib\u001b[39m.\u001b[39mparse\u001b[39m.\u001b[39murlencode(new_data)\n\u001b[0;32m     70\u001b[0m log\u001b[39m.\u001b[39mdebug(\u001b[39mf\u001b[39m\u001b[39m'\u001b[39m\u001b[39mOpening \u001b[39m\u001b[39m{\u001b[39;00murl\u001b[39m}\u001b[39;00m\u001b[39m'\u001b[39m)\n\u001b[1;32m---> 71\u001b[0m fd \u001b[39m=\u001b[39m urllib\u001b[39m.\u001b[39;49mrequest\u001b[39m.\u001b[39;49murlopen(url)\n\u001b[0;32m     72\u001b[0m \u001b[39mtry\u001b[39;00m:\n\u001b[0;32m     73\u001b[0m     result \u001b[39m=\u001b[39m codecs\u001b[39m.\u001b[39mdecode(fd\u001b[39m.\u001b[39mread(), encoding\u001b[39m=\u001b[39m\u001b[39m'\u001b[39m\u001b[39mutf-8\u001b[39m\u001b[39m'\u001b[39m, errors\u001b[39m=\u001b[39m\u001b[39m'\u001b[39m\u001b[39mreplace\u001b[39m\u001b[39m'\u001b[39m)\n",
      "File \u001b[1;32m~\\AppData\\Local\\Programs\\Python\\Python310\\lib\\urllib\\request.py:216\u001b[0m, in \u001b[0;36murlopen\u001b[1;34m(url, data, timeout, cafile, capath, cadefault, context)\u001b[0m\n\u001b[0;32m    214\u001b[0m \u001b[39melse\u001b[39;00m:\n\u001b[0;32m    215\u001b[0m     opener \u001b[39m=\u001b[39m _opener\n\u001b[1;32m--> 216\u001b[0m \u001b[39mreturn\u001b[39;00m opener\u001b[39m.\u001b[39;49mopen(url, data, timeout)\n",
      "File \u001b[1;32m~\\AppData\\Local\\Programs\\Python\\Python310\\lib\\urllib\\request.py:519\u001b[0m, in \u001b[0;36mOpenerDirector.open\u001b[1;34m(self, fullurl, data, timeout)\u001b[0m\n\u001b[0;32m    516\u001b[0m     req \u001b[39m=\u001b[39m meth(req)\n\u001b[0;32m    518\u001b[0m sys\u001b[39m.\u001b[39maudit(\u001b[39m'\u001b[39m\u001b[39murllib.Request\u001b[39m\u001b[39m'\u001b[39m, req\u001b[39m.\u001b[39mfull_url, req\u001b[39m.\u001b[39mdata, req\u001b[39m.\u001b[39mheaders, req\u001b[39m.\u001b[39mget_method())\n\u001b[1;32m--> 519\u001b[0m response \u001b[39m=\u001b[39m \u001b[39mself\u001b[39;49m\u001b[39m.\u001b[39;49m_open(req, data)\n\u001b[0;32m    521\u001b[0m \u001b[39m# post-process response\u001b[39;00m\n\u001b[0;32m    522\u001b[0m meth_name \u001b[39m=\u001b[39m protocol\u001b[39m+\u001b[39m\u001b[39m\"\u001b[39m\u001b[39m_response\u001b[39m\u001b[39m\"\u001b[39m\n",
      "File \u001b[1;32m~\\AppData\\Local\\Programs\\Python\\Python310\\lib\\urllib\\request.py:536\u001b[0m, in \u001b[0;36mOpenerDirector._open\u001b[1;34m(self, req, data)\u001b[0m\n\u001b[0;32m    533\u001b[0m     \u001b[39mreturn\u001b[39;00m result\n\u001b[0;32m    535\u001b[0m protocol \u001b[39m=\u001b[39m req\u001b[39m.\u001b[39mtype\n\u001b[1;32m--> 536\u001b[0m result \u001b[39m=\u001b[39m \u001b[39mself\u001b[39;49m\u001b[39m.\u001b[39;49m_call_chain(\u001b[39mself\u001b[39;49m\u001b[39m.\u001b[39;49mhandle_open, protocol, protocol \u001b[39m+\u001b[39;49m\n\u001b[0;32m    537\u001b[0m                           \u001b[39m'\u001b[39;49m\u001b[39m_open\u001b[39;49m\u001b[39m'\u001b[39;49m, req)\n\u001b[0;32m    538\u001b[0m \u001b[39mif\u001b[39;00m result:\n\u001b[0;32m    539\u001b[0m     \u001b[39mreturn\u001b[39;00m result\n",
      "File \u001b[1;32m~\\AppData\\Local\\Programs\\Python\\Python310\\lib\\urllib\\request.py:496\u001b[0m, in \u001b[0;36mOpenerDirector._call_chain\u001b[1;34m(self, chain, kind, meth_name, *args)\u001b[0m\n\u001b[0;32m    494\u001b[0m \u001b[39mfor\u001b[39;00m handler \u001b[39min\u001b[39;00m handlers:\n\u001b[0;32m    495\u001b[0m     func \u001b[39m=\u001b[39m \u001b[39mgetattr\u001b[39m(handler, meth_name)\n\u001b[1;32m--> 496\u001b[0m     result \u001b[39m=\u001b[39m func(\u001b[39m*\u001b[39;49margs)\n\u001b[0;32m    497\u001b[0m     \u001b[39mif\u001b[39;00m result \u001b[39mis\u001b[39;00m \u001b[39mnot\u001b[39;00m \u001b[39mNone\u001b[39;00m:\n\u001b[0;32m    498\u001b[0m         \u001b[39mreturn\u001b[39;00m result\n",
      "File \u001b[1;32m~\\AppData\\Local\\Programs\\Python\\Python310\\lib\\urllib\\request.py:1391\u001b[0m, in \u001b[0;36mHTTPSHandler.https_open\u001b[1;34m(self, req)\u001b[0m\n\u001b[0;32m   1390\u001b[0m \u001b[39mdef\u001b[39;00m \u001b[39mhttps_open\u001b[39m(\u001b[39mself\u001b[39m, req):\n\u001b[1;32m-> 1391\u001b[0m     \u001b[39mreturn\u001b[39;00m \u001b[39mself\u001b[39;49m\u001b[39m.\u001b[39;49mdo_open(http\u001b[39m.\u001b[39;49mclient\u001b[39m.\u001b[39;49mHTTPSConnection, req,\n\u001b[0;32m   1392\u001b[0m         context\u001b[39m=\u001b[39;49m\u001b[39mself\u001b[39;49m\u001b[39m.\u001b[39;49m_context, check_hostname\u001b[39m=\u001b[39;49m\u001b[39mself\u001b[39;49m\u001b[39m.\u001b[39;49m_check_hostname)\n",
      "File \u001b[1;32m~\\AppData\\Local\\Programs\\Python\\Python310\\lib\\urllib\\request.py:1348\u001b[0m, in \u001b[0;36mAbstractHTTPHandler.do_open\u001b[1;34m(self, http_class, req, **http_conn_args)\u001b[0m\n\u001b[0;32m   1346\u001b[0m \u001b[39mtry\u001b[39;00m:\n\u001b[0;32m   1347\u001b[0m     \u001b[39mtry\u001b[39;00m:\n\u001b[1;32m-> 1348\u001b[0m         h\u001b[39m.\u001b[39;49mrequest(req\u001b[39m.\u001b[39;49mget_method(), req\u001b[39m.\u001b[39;49mselector, req\u001b[39m.\u001b[39;49mdata, headers,\n\u001b[0;32m   1349\u001b[0m                   encode_chunked\u001b[39m=\u001b[39;49mreq\u001b[39m.\u001b[39;49mhas_header(\u001b[39m'\u001b[39;49m\u001b[39mTransfer-encoding\u001b[39;49m\u001b[39m'\u001b[39;49m))\n\u001b[0;32m   1350\u001b[0m     \u001b[39mexcept\u001b[39;00m \u001b[39mOSError\u001b[39;00m \u001b[39mas\u001b[39;00m err: \u001b[39m# timeout error\u001b[39;00m\n\u001b[0;32m   1351\u001b[0m         \u001b[39mraise\u001b[39;00m URLError(err)\n",
      "File \u001b[1;32m~\\AppData\\Local\\Programs\\Python\\Python310\\lib\\http\\client.py:1282\u001b[0m, in \u001b[0;36mHTTPConnection.request\u001b[1;34m(self, method, url, body, headers, encode_chunked)\u001b[0m\n\u001b[0;32m   1279\u001b[0m \u001b[39mdef\u001b[39;00m \u001b[39mrequest\u001b[39m(\u001b[39mself\u001b[39m, method, url, body\u001b[39m=\u001b[39m\u001b[39mNone\u001b[39;00m, headers\u001b[39m=\u001b[39m{}, \u001b[39m*\u001b[39m,\n\u001b[0;32m   1280\u001b[0m             encode_chunked\u001b[39m=\u001b[39m\u001b[39mFalse\u001b[39;00m):\n\u001b[0;32m   1281\u001b[0m \u001b[39m    \u001b[39m\u001b[39m\"\"\"Send a complete request to the server.\"\"\"\u001b[39;00m\n\u001b[1;32m-> 1282\u001b[0m     \u001b[39mself\u001b[39;49m\u001b[39m.\u001b[39;49m_send_request(method, url, body, headers, encode_chunked)\n",
      "File \u001b[1;32m~\\AppData\\Local\\Programs\\Python\\Python310\\lib\\http\\client.py:1328\u001b[0m, in \u001b[0;36mHTTPConnection._send_request\u001b[1;34m(self, method, url, body, headers, encode_chunked)\u001b[0m\n\u001b[0;32m   1324\u001b[0m \u001b[39mif\u001b[39;00m \u001b[39misinstance\u001b[39m(body, \u001b[39mstr\u001b[39m):\n\u001b[0;32m   1325\u001b[0m     \u001b[39m# RFC 2616 Section 3.7.1 says that text default has a\u001b[39;00m\n\u001b[0;32m   1326\u001b[0m     \u001b[39m# default charset of iso-8859-1.\u001b[39;00m\n\u001b[0;32m   1327\u001b[0m     body \u001b[39m=\u001b[39m _encode(body, \u001b[39m'\u001b[39m\u001b[39mbody\u001b[39m\u001b[39m'\u001b[39m)\n\u001b[1;32m-> 1328\u001b[0m \u001b[39mself\u001b[39;49m\u001b[39m.\u001b[39;49mendheaders(body, encode_chunked\u001b[39m=\u001b[39;49mencode_chunked)\n",
      "File \u001b[1;32m~\\AppData\\Local\\Programs\\Python\\Python310\\lib\\http\\client.py:1277\u001b[0m, in \u001b[0;36mHTTPConnection.endheaders\u001b[1;34m(self, message_body, encode_chunked)\u001b[0m\n\u001b[0;32m   1275\u001b[0m \u001b[39melse\u001b[39;00m:\n\u001b[0;32m   1276\u001b[0m     \u001b[39mraise\u001b[39;00m CannotSendHeader()\n\u001b[1;32m-> 1277\u001b[0m \u001b[39mself\u001b[39;49m\u001b[39m.\u001b[39;49m_send_output(message_body, encode_chunked\u001b[39m=\u001b[39;49mencode_chunked)\n",
      "File \u001b[1;32m~\\AppData\\Local\\Programs\\Python\\Python310\\lib\\http\\client.py:1037\u001b[0m, in \u001b[0;36mHTTPConnection._send_output\u001b[1;34m(self, message_body, encode_chunked)\u001b[0m\n\u001b[0;32m   1035\u001b[0m msg \u001b[39m=\u001b[39m \u001b[39mb\u001b[39m\u001b[39m\"\u001b[39m\u001b[39m\\r\u001b[39;00m\u001b[39m\\n\u001b[39;00m\u001b[39m\"\u001b[39m\u001b[39m.\u001b[39mjoin(\u001b[39mself\u001b[39m\u001b[39m.\u001b[39m_buffer)\n\u001b[0;32m   1036\u001b[0m \u001b[39mdel\u001b[39;00m \u001b[39mself\u001b[39m\u001b[39m.\u001b[39m_buffer[:]\n\u001b[1;32m-> 1037\u001b[0m \u001b[39mself\u001b[39;49m\u001b[39m.\u001b[39;49msend(msg)\n\u001b[0;32m   1039\u001b[0m \u001b[39mif\u001b[39;00m message_body \u001b[39mis\u001b[39;00m \u001b[39mnot\u001b[39;00m \u001b[39mNone\u001b[39;00m:\n\u001b[0;32m   1040\u001b[0m \n\u001b[0;32m   1041\u001b[0m     \u001b[39m# create a consistent interface to message_body\u001b[39;00m\n\u001b[0;32m   1042\u001b[0m     \u001b[39mif\u001b[39;00m \u001b[39mhasattr\u001b[39m(message_body, \u001b[39m'\u001b[39m\u001b[39mread\u001b[39m\u001b[39m'\u001b[39m):\n\u001b[0;32m   1043\u001b[0m         \u001b[39m# Let file-like take precedence over byte-like.  This\u001b[39;00m\n\u001b[0;32m   1044\u001b[0m         \u001b[39m# is needed to allow the current position of mmap'ed\u001b[39;00m\n\u001b[0;32m   1045\u001b[0m         \u001b[39m# files to be taken into account.\u001b[39;00m\n",
      "File \u001b[1;32m~\\AppData\\Local\\Programs\\Python\\Python310\\lib\\http\\client.py:975\u001b[0m, in \u001b[0;36mHTTPConnection.send\u001b[1;34m(self, data)\u001b[0m\n\u001b[0;32m    973\u001b[0m \u001b[39mif\u001b[39;00m \u001b[39mself\u001b[39m\u001b[39m.\u001b[39msock \u001b[39mis\u001b[39;00m \u001b[39mNone\u001b[39;00m:\n\u001b[0;32m    974\u001b[0m     \u001b[39mif\u001b[39;00m \u001b[39mself\u001b[39m\u001b[39m.\u001b[39mauto_open:\n\u001b[1;32m--> 975\u001b[0m         \u001b[39mself\u001b[39;49m\u001b[39m.\u001b[39;49mconnect()\n\u001b[0;32m    976\u001b[0m     \u001b[39melse\u001b[39;00m:\n\u001b[0;32m    977\u001b[0m         \u001b[39mraise\u001b[39;00m NotConnected()\n",
      "File \u001b[1;32m~\\AppData\\Local\\Programs\\Python\\Python310\\lib\\http\\client.py:1447\u001b[0m, in \u001b[0;36mHTTPSConnection.connect\u001b[1;34m(self)\u001b[0m\n\u001b[0;32m   1444\u001b[0m \u001b[39mdef\u001b[39;00m \u001b[39mconnect\u001b[39m(\u001b[39mself\u001b[39m):\n\u001b[0;32m   1445\u001b[0m     \u001b[39m\"\u001b[39m\u001b[39mConnect to a host on a given (SSL) port.\u001b[39m\u001b[39m\"\u001b[39m\n\u001b[1;32m-> 1447\u001b[0m     \u001b[39msuper\u001b[39;49m()\u001b[39m.\u001b[39;49mconnect()\n\u001b[0;32m   1449\u001b[0m     \u001b[39mif\u001b[39;00m \u001b[39mself\u001b[39m\u001b[39m.\u001b[39m_tunnel_host:\n\u001b[0;32m   1450\u001b[0m         server_hostname \u001b[39m=\u001b[39m \u001b[39mself\u001b[39m\u001b[39m.\u001b[39m_tunnel_host\n",
      "File \u001b[1;32m~\\AppData\\Local\\Programs\\Python\\Python310\\lib\\http\\client.py:941\u001b[0m, in \u001b[0;36mHTTPConnection.connect\u001b[1;34m(self)\u001b[0m\n\u001b[0;32m    939\u001b[0m \u001b[39m\u001b[39m\u001b[39m\"\"\"Connect to the host and port specified in __init__.\"\"\"\u001b[39;00m\n\u001b[0;32m    940\u001b[0m sys\u001b[39m.\u001b[39maudit(\u001b[39m\"\u001b[39m\u001b[39mhttp.client.connect\u001b[39m\u001b[39m\"\u001b[39m, \u001b[39mself\u001b[39m, \u001b[39mself\u001b[39m\u001b[39m.\u001b[39mhost, \u001b[39mself\u001b[39m\u001b[39m.\u001b[39mport)\n\u001b[1;32m--> 941\u001b[0m \u001b[39mself\u001b[39m\u001b[39m.\u001b[39msock \u001b[39m=\u001b[39m \u001b[39mself\u001b[39;49m\u001b[39m.\u001b[39;49m_create_connection(\n\u001b[0;32m    942\u001b[0m     (\u001b[39mself\u001b[39;49m\u001b[39m.\u001b[39;49mhost,\u001b[39mself\u001b[39;49m\u001b[39m.\u001b[39;49mport), \u001b[39mself\u001b[39;49m\u001b[39m.\u001b[39;49mtimeout, \u001b[39mself\u001b[39;49m\u001b[39m.\u001b[39;49msource_address)\n\u001b[0;32m    943\u001b[0m \u001b[39m# Might fail in OSs that don't implement TCP_NODELAY\u001b[39;00m\n\u001b[0;32m    944\u001b[0m \u001b[39mtry\u001b[39;00m:\n",
      "File \u001b[1;32m~\\AppData\\Local\\Programs\\Python\\Python310\\lib\\socket.py:824\u001b[0m, in \u001b[0;36mcreate_connection\u001b[1;34m(address, timeout, source_address)\u001b[0m\n\u001b[0;32m    822\u001b[0m host, port \u001b[39m=\u001b[39m address\n\u001b[0;32m    823\u001b[0m err \u001b[39m=\u001b[39m \u001b[39mNone\u001b[39;00m\n\u001b[1;32m--> 824\u001b[0m \u001b[39mfor\u001b[39;00m res \u001b[39min\u001b[39;00m getaddrinfo(host, port, \u001b[39m0\u001b[39;49m, SOCK_STREAM):\n\u001b[0;32m    825\u001b[0m     af, socktype, proto, canonname, sa \u001b[39m=\u001b[39m res\n\u001b[0;32m    826\u001b[0m     sock \u001b[39m=\u001b[39m \u001b[39mNone\u001b[39;00m\n",
      "File \u001b[1;32m~\\AppData\\Local\\Programs\\Python\\Python310\\lib\\socket.py:955\u001b[0m, in \u001b[0;36mgetaddrinfo\u001b[1;34m(host, port, family, type, proto, flags)\u001b[0m\n\u001b[0;32m    952\u001b[0m \u001b[39m# We override this function since we want to translate the numeric family\u001b[39;00m\n\u001b[0;32m    953\u001b[0m \u001b[39m# and socket type values to enum constants.\u001b[39;00m\n\u001b[0;32m    954\u001b[0m addrlist \u001b[39m=\u001b[39m []\n\u001b[1;32m--> 955\u001b[0m \u001b[39mfor\u001b[39;00m res \u001b[39min\u001b[39;00m _socket\u001b[39m.\u001b[39;49mgetaddrinfo(host, port, family, \u001b[39mtype\u001b[39;49m, proto, flags):\n\u001b[0;32m    956\u001b[0m     af, socktype, proto, canonname, sa \u001b[39m=\u001b[39m res\n\u001b[0;32m    957\u001b[0m     addrlist\u001b[39m.\u001b[39mappend((_intenum_converter(af, AddressFamily),\n\u001b[0;32m    958\u001b[0m                      _intenum_converter(socktype, SocketKind),\n\u001b[0;32m    959\u001b[0m                      proto, canonname, sa))\n",
      "\u001b[1;31mKeyboardInterrupt\u001b[0m: "
     ]
    }
   ],
   "source": [
    "#### Search database for ALL goes flares\n",
    "res = Fido.search(fl_search, a.hek.EventType(\"FL\"), a.hek.FRM.Name == \"SSW Latest Events\")\n",
    "fullres = res[\"hek\"]\n",
    "\n",
    "#### Reduce the table down to just the info we want\n",
    "srch_res = fullres[\"event_starttime\", \"event_peaktime\",\n",
    "                        \"event_endtime\", \"fl_goescls\", \"hpc_x\", \"hpc_y\", \"hgc_x\", \"hgc_y\",\"hgs_x\", \"hgs_y\",\"event_score\",\"sum_overlap_scores\",\"ar_noaanum\"]\n",
    "                        # More stuff that could be useful, Heliographic lat lon, and where from\n",
    "                        #[\"hgc_x\", \"hgc_y\", \"frm_name\"]\n",
    "\n",
    "print(f\"Total Number of flares in period: {len(srch_res)}\")\n",
    "print(\"\")\n",
    "srch_res.write(\"GOES15_HEK_Data_NOTSSW.csv\", overwrite = True, format=\"csv\")"
   ]
  },
  {
   "cell_type": "code",
   "execution_count": 14,
   "metadata": {},
   "outputs": [
    {
     "name": "stdout",
     "output_type": "stream",
     "text": [
      "Total Number of flares in period: 14751\n",
      "\n"
     ]
    }
   ],
   "source": [
    "#### Search database for ALL goes flares\n",
    "res = Fido.search(fl_search, a.hek.EventType(\"FL\"), a.hek.OBS.Observatory == \"GOES\")\n",
    "fullres = res[\"hek\"]\n",
    "\n",
    "#### Reduce the table down to just the info we want\n",
    "srch_res = fullres[\"event_starttime\", \"event_peaktime\",\n",
    "                        \"event_endtime\", \"fl_goescls\",\"ar_noaanum\"]\n",
    "                        # More stuff that could be useful, Heliographic lat lon, and where from\n",
    "                        #[\"hgc_x\", \"hgc_y\", \"frm_name\"]\n",
    "\n",
    "print(f\"Total Number of flares in period: {len(srch_res)}\")\n",
    "print(\"\")\n",
    "srch_res.write(\"GOES15_HEK_Data_GOES.csv\", overwrite = True, format=\"csv\")"
   ]
  },
  {
   "cell_type": "code",
   "execution_count": 15,
   "metadata": {},
   "outputs": [],
   "source": [
    "srch_res.write(\"GOES15_HEK_Data.csv\", overwrite = True, format=\"csv\")"
   ]
  },
  {
   "attachments": {},
   "cell_type": "markdown",
   "metadata": {},
   "source": [
    "#### Have a look at how many of each class type there were in this period."
   ]
  },
  {
   "cell_type": "code",
   "execution_count": 27,
   "metadata": {},
   "outputs": [
    {
     "name": "stdout",
     "output_type": "stream",
     "text": [
      "X-class: 49\n",
      "M-class: 734\n",
      "C-class: 7716\n",
      "B-class: 6321\n"
     ]
    }
   ],
   "source": [
    "data = pd.read_csv(\"GOES15_HEK_Data_SSW.csv\")\n",
    "data = data.drop_duplicates(['event_peaktime', 'fl_goescls'])\n",
    "\n",
    "b_count = 0\n",
    "c_count = 0\n",
    "m_count = 0\n",
    "x_count = 0\n",
    "for fl in data['fl_goescls'].astype(str):\n",
    "    if fl.__contains__(\"B\"):\n",
    "        b_count = b_count + 1\n",
    "    elif fl.__contains__(\"C\"):\n",
    "        c_count = c_count + 1\n",
    "    elif fl.__contains__(\"M\"):\n",
    "        m_count = m_count + 1\n",
    "    elif fl.__contains__(\"X\"):\n",
    "        x_count = x_count + 1\n",
    "\n",
    "print(f\"X-class: {x_count}\")\n",
    "print(f\"M-class: {m_count}\")\n",
    "print(f\"C-class: {c_count}\")\n",
    "print(f\"B-class: {b_count}\")"
   ]
  },
  {
   "cell_type": "code",
   "execution_count": 48,
   "metadata": {},
   "outputs": [],
   "source": [
    "data_SSW = pd.read_csv(\"GOES15_HEK_Data_SSW.csv\")\n",
    "data_SSW = data_SSW.drop_duplicates(['event_peaktime', 'fl_goescls'])\n",
    "data_SSW['Origin'] = \"SSW\"\n",
    "\n",
    "data_GOES = pd.read_csv(\"GOES15_HEK_Data_GOES.csv\")\n",
    "data_GOES = data_GOES.drop_duplicates(['event_peaktime', 'fl_goescls'])\n",
    "data_GOES['Origin'] = \"GOES\""
   ]
  },
  {
   "cell_type": "code",
   "execution_count": 71,
   "metadata": {},
   "outputs": [],
   "source": [
    "data_full = pd.concat([data_SSW, data_GOES],axis = 0)\n",
    "data_full = data_full.sort_values(by = ['event_starttime', 'Origin'])\n",
    "data_full = data_full.drop_duplicates(['event_peaktime', 'fl_goescls'], keep = \"last\")\n",
    "data_full = data_full.sort_values(by = ['event_starttime'])\n",
    "data_full = data_full.reset_index(drop = True)\n",
    "data_full.to_csv(\"GOES15_HEK_Data.csv\")\n"
   ]
  },
  {
   "cell_type": "code",
   "execution_count": 72,
   "metadata": {},
   "outputs": [],
   "source": [
    "data = data_full"
   ]
  },
  {
   "attachments": {},
   "cell_type": "markdown",
   "metadata": {},
   "source": [
    "### Want to Process this data.\n",
    "- Dropping duplicates\n",
    "- Flagging Overlapped flares\n",
    "- Flagging nan flares\n"
   ]
  },
  {
   "attachments": {},
   "cell_type": "markdown",
   "metadata": {},
   "source": [
    "#### Dropping dupes"
   ]
  },
  {
   "attachments": {},
   "cell_type": "markdown",
   "metadata": {},
   "source": [
    "#### Setting up a proximity flag for overlapped flares"
   ]
  },
  {
   "cell_type": "code",
   "execution_count": 73,
   "metadata": {},
   "outputs": [],
   "source": [
    "data['Proximity Flag'] = False\n",
    "data.at[0, 'Proximity Flag'] = False  # add this line to set the first row to False\n",
    "\n",
    "for i in range(1, len(data)):\n",
    "    if (pd.to_datetime(data.iloc[i]['event_starttime']) - pd.to_datetime(data.iloc[i-1]['event_endtime'])).total_seconds() / 60 <= 30:\n",
    "        data.at[i, 'Proximity Flag'] = True"
   ]
  },
  {
   "cell_type": "code",
   "execution_count": 74,
   "metadata": {},
   "outputs": [
    {
     "name": "stdout",
     "output_type": "stream",
     "text": [
      "There were: 0 duplicates removed\n"
     ]
    }
   ],
   "source": [
    "data1 = data.drop_duplicates(subset = ['event_peaktime','fl_goescls'])\n",
    "data1 = data1.reset_index(drop=True)\n",
    "print(f\"There were: {len(data) - len(data1)} duplicates removed\")"
   ]
  },
  {
   "cell_type": "code",
   "execution_count": 75,
   "metadata": {},
   "outputs": [],
   "source": [
    "data1.to_csv(\"GOES15_HEK_Data.csv\")"
   ]
  },
  {
   "cell_type": "code",
   "execution_count": 20,
   "metadata": {},
   "outputs": [
    {
     "ename": "KeyError",
     "evalue": "'event_score'",
     "output_type": "error",
     "traceback": [
      "\u001b[1;31m---------------------------------------------------------------------------\u001b[0m",
      "\u001b[1;31mKeyError\u001b[0m                                  Traceback (most recent call last)",
      "File \u001b[1;32mc:\\Users\\William\\Documents\\University\\MastersProj\\hot_onsets\\lib\\site-packages\\pandas\\core\\indexes\\base.py:3802\u001b[0m, in \u001b[0;36mIndex.get_loc\u001b[1;34m(self, key, method, tolerance)\u001b[0m\n\u001b[0;32m   3801\u001b[0m \u001b[39mtry\u001b[39;00m:\n\u001b[1;32m-> 3802\u001b[0m     \u001b[39mreturn\u001b[39;00m \u001b[39mself\u001b[39;49m\u001b[39m.\u001b[39;49m_engine\u001b[39m.\u001b[39;49mget_loc(casted_key)\n\u001b[0;32m   3803\u001b[0m \u001b[39mexcept\u001b[39;00m \u001b[39mKeyError\u001b[39;00m \u001b[39mas\u001b[39;00m err:\n",
      "File \u001b[1;32mc:\\Users\\William\\Documents\\University\\MastersProj\\hot_onsets\\lib\\site-packages\\pandas\\_libs\\index.pyx:138\u001b[0m, in \u001b[0;36mpandas._libs.index.IndexEngine.get_loc\u001b[1;34m()\u001b[0m\n",
      "File \u001b[1;32mc:\\Users\\William\\Documents\\University\\MastersProj\\hot_onsets\\lib\\site-packages\\pandas\\_libs\\index.pyx:165\u001b[0m, in \u001b[0;36mpandas._libs.index.IndexEngine.get_loc\u001b[1;34m()\u001b[0m\n",
      "File \u001b[1;32mpandas\\_libs\\hashtable_class_helper.pxi:5745\u001b[0m, in \u001b[0;36mpandas._libs.hashtable.PyObjectHashTable.get_item\u001b[1;34m()\u001b[0m\n",
      "File \u001b[1;32mpandas\\_libs\\hashtable_class_helper.pxi:5753\u001b[0m, in \u001b[0;36mpandas._libs.hashtable.PyObjectHashTable.get_item\u001b[1;34m()\u001b[0m\n",
      "\u001b[1;31mKeyError\u001b[0m: 'event_score'",
      "\nThe above exception was the direct cause of the following exception:\n",
      "\u001b[1;31mKeyError\u001b[0m                                  Traceback (most recent call last)",
      "Cell \u001b[1;32mIn[20], line 1\u001b[0m\n\u001b[1;32m----> 1\u001b[0m plt\u001b[39m.\u001b[39mplot(data1[\u001b[39m'\u001b[39;49m\u001b[39mevent_score\u001b[39;49m\u001b[39m'\u001b[39;49m][\u001b[39m~\u001b[39mdata1[\u001b[39m'\u001b[39m\u001b[39mfl_goescls\u001b[39m\u001b[39m'\u001b[39m]\u001b[39m.\u001b[39mastype(\u001b[39mstr\u001b[39m)\u001b[39m.\u001b[39mstr\u001b[39m.\u001b[39mcontains(\u001b[39m\"\u001b[39m\u001b[39mB\u001b[39m\u001b[39m\"\u001b[39m)], data1[\u001b[39m'\u001b[39m\u001b[39msum_overlap_scores\u001b[39m\u001b[39m'\u001b[39m][\u001b[39m~\u001b[39mdata1[\u001b[39m'\u001b[39m\u001b[39mfl_goescls\u001b[39m\u001b[39m'\u001b[39m]\u001b[39m.\u001b[39mastype(\u001b[39mstr\u001b[39m)\u001b[39m.\u001b[39mstr\u001b[39m.\u001b[39mcontains(\u001b[39m\"\u001b[39m\u001b[39mB\u001b[39m\u001b[39m\"\u001b[39m)], \u001b[39m'\u001b[39m\u001b[39m.\u001b[39m\u001b[39m'\u001b[39m)\n\u001b[0;32m      2\u001b[0m plt\u001b[39m.\u001b[39mplot(data1[\u001b[39m'\u001b[39m\u001b[39mevent_score\u001b[39m\u001b[39m'\u001b[39m][data1[\u001b[39m'\u001b[39m\u001b[39mfl_goescls\u001b[39m\u001b[39m'\u001b[39m]\u001b[39m.\u001b[39mastype(\u001b[39mstr\u001b[39m)\u001b[39m.\u001b[39mstr\u001b[39m.\u001b[39mcontains(\u001b[39m\"\u001b[39m\u001b[39mB\u001b[39m\u001b[39m\"\u001b[39m)], data1[\u001b[39m'\u001b[39m\u001b[39msum_overlap_scores\u001b[39m\u001b[39m'\u001b[39m][data1[\u001b[39m'\u001b[39m\u001b[39mfl_goescls\u001b[39m\u001b[39m'\u001b[39m]\u001b[39m.\u001b[39mastype(\u001b[39mstr\u001b[39m)\u001b[39m.\u001b[39mstr\u001b[39m.\u001b[39mcontains(\u001b[39m\"\u001b[39m\u001b[39mB\u001b[39m\u001b[39m\"\u001b[39m)], \u001b[39m'\u001b[39m\u001b[39m.\u001b[39m\u001b[39m'\u001b[39m)\n\u001b[0;32m      4\u001b[0m plt\u001b[39m.\u001b[39mshow()\n",
      "File \u001b[1;32mc:\\Users\\William\\Documents\\University\\MastersProj\\hot_onsets\\lib\\site-packages\\pandas\\core\\frame.py:3807\u001b[0m, in \u001b[0;36mDataFrame.__getitem__\u001b[1;34m(self, key)\u001b[0m\n\u001b[0;32m   3805\u001b[0m \u001b[39mif\u001b[39;00m \u001b[39mself\u001b[39m\u001b[39m.\u001b[39mcolumns\u001b[39m.\u001b[39mnlevels \u001b[39m>\u001b[39m \u001b[39m1\u001b[39m:\n\u001b[0;32m   3806\u001b[0m     \u001b[39mreturn\u001b[39;00m \u001b[39mself\u001b[39m\u001b[39m.\u001b[39m_getitem_multilevel(key)\n\u001b[1;32m-> 3807\u001b[0m indexer \u001b[39m=\u001b[39m \u001b[39mself\u001b[39;49m\u001b[39m.\u001b[39;49mcolumns\u001b[39m.\u001b[39;49mget_loc(key)\n\u001b[0;32m   3808\u001b[0m \u001b[39mif\u001b[39;00m is_integer(indexer):\n\u001b[0;32m   3809\u001b[0m     indexer \u001b[39m=\u001b[39m [indexer]\n",
      "File \u001b[1;32mc:\\Users\\William\\Documents\\University\\MastersProj\\hot_onsets\\lib\\site-packages\\pandas\\core\\indexes\\base.py:3804\u001b[0m, in \u001b[0;36mIndex.get_loc\u001b[1;34m(self, key, method, tolerance)\u001b[0m\n\u001b[0;32m   3802\u001b[0m     \u001b[39mreturn\u001b[39;00m \u001b[39mself\u001b[39m\u001b[39m.\u001b[39m_engine\u001b[39m.\u001b[39mget_loc(casted_key)\n\u001b[0;32m   3803\u001b[0m \u001b[39mexcept\u001b[39;00m \u001b[39mKeyError\u001b[39;00m \u001b[39mas\u001b[39;00m err:\n\u001b[1;32m-> 3804\u001b[0m     \u001b[39mraise\u001b[39;00m \u001b[39mKeyError\u001b[39;00m(key) \u001b[39mfrom\u001b[39;00m \u001b[39merr\u001b[39;00m\n\u001b[0;32m   3805\u001b[0m \u001b[39mexcept\u001b[39;00m \u001b[39mTypeError\u001b[39;00m:\n\u001b[0;32m   3806\u001b[0m     \u001b[39m# If we have a listlike key, _check_indexing_error will raise\u001b[39;00m\n\u001b[0;32m   3807\u001b[0m     \u001b[39m#  InvalidIndexError. Otherwise we fall through and re-raise\u001b[39;00m\n\u001b[0;32m   3808\u001b[0m     \u001b[39m#  the TypeError.\u001b[39;00m\n\u001b[0;32m   3809\u001b[0m     \u001b[39mself\u001b[39m\u001b[39m.\u001b[39m_check_indexing_error(key)\n",
      "\u001b[1;31mKeyError\u001b[0m: 'event_score'"
     ]
    }
   ],
   "source": [
    "plt.plot(data1['event_score'][~data1['fl_goescls'].astype(str).str.contains(\"B\")], data1['sum_overlap_scores'][~data1['fl_goescls'].astype(str).str.contains(\"B\")], '.')\n",
    "plt.plot(data1['event_score'][data1['fl_goescls'].astype(str).str.contains(\"B\")], data1['sum_overlap_scores'][data1['fl_goescls'].astype(str).str.contains(\"B\")], '.')\n",
    "\n",
    "plt.show()"
   ]
  }
 ],
 "metadata": {
  "kernelspec": {
   "display_name": "hot_onsets",
   "language": "python",
   "name": "python3"
  },
  "language_info": {
   "codemirror_mode": {
    "name": "ipython",
    "version": 3
   },
   "file_extension": ".py",
   "mimetype": "text/x-python",
   "name": "python",
   "nbconvert_exporter": "python",
   "pygments_lexer": "ipython3",
   "version": "3.10.7"
  },
  "orig_nbformat": 4,
  "vscode": {
   "interpreter": {
    "hash": "62a2b8ad637c63baaf45e2cce9d4a159ca450ba6124aa82e6d4dc02e44296dbd"
   }
  }
 },
 "nbformat": 4,
 "nbformat_minor": 2
}
