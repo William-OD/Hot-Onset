{
 "cells": [
  {
   "cell_type": "code",
   "execution_count": 6,
   "metadata": {},
   "outputs": [],
   "source": [
    "import PyPDF2\n",
    "\n",
    "# Open the two PDF files\n",
    "pdf1 = open('Graphs/TEM_compare_20140107_1.pdf', 'rb')\n",
    "pdf2 = open('Graphs/TEM_compare_20140107_2.pdf', 'rb')\n",
    "\n",
    "# Create a new PDF file\n",
    "pdf_out = open('combined.pdf', 'wb')\n",
    "\n",
    "merger = PyPDF2.PdfMerger()\n",
    "\n",
    "merger.append(pdf1)\n",
    "merger.append(pdf2)\n",
    "\n",
    "\n",
    "merger.write(pdf_out)\n",
    "\n",
    "# Close the files\n",
    "pdf1.close()\n",
    "pdf2.close()\n",
    "pdf_out.close()\n"
   ]
  }
 ],
 "metadata": {
  "kernelspec": {
   "display_name": "hot_onsets",
   "language": "python",
   "name": "python3"
  },
  "language_info": {
   "codemirror_mode": {
    "name": "ipython",
    "version": 3
   },
   "file_extension": ".py",
   "mimetype": "text/x-python",
   "name": "python",
   "nbconvert_exporter": "python",
   "pygments_lexer": "ipython3",
   "version": "3.10.7"
  },
  "orig_nbformat": 4
 },
 "nbformat": 4,
 "nbformat_minor": 2
}
