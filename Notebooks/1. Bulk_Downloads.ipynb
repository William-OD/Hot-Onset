{
 "cells": [
  {
   "cell_type": "code",
   "execution_count": 13,
   "metadata": {},
   "outputs": [
    {
     "data": {
      "text/plain": [
       "CompletedProcess(args=['wget', '-r', '-np', '-nH', '-R', '-nd', 'index.html*', '-P', 'C:\\\\Users\\\\William\\\\Documents\\\\University\\\\MastersProj\\\\Data\\\\Run_1', 'https://www.ncei.noaa.gov/data/goes-space-environment-monitor/access/science/xrs/goes15/gxrs-l2-irrad_science/2016/03/'], returncode=4)"
      ]
     },
     "execution_count": 13,
     "metadata": {},
     "output_type": "execute_result"
    }
   ],
   "source": [
    "import subprocess\n",
    "import wget\n",
    "import glob\n",
    "\n",
    "data_dir = r\"C:\\Users\\William\\Documents\\University\\MastersProj\\Data\\Run_1\" #data directory\n",
    "url = 'https://www.ncei.noaa.gov/data/goes-space-environment-monitor/access/science/xrs/goes15/gxrs-l2-irrad_science/2016/'\n",
    "\n",
    "subprocess.run(['wget', '-r', '-np', '-nH', '-R', '-nd','index.html*', '-P', data_dir,url])"
   ]
  }
 ],
 "metadata": {
  "kernelspec": {
   "display_name": "hot_onsets",
   "language": "python",
   "name": "python3"
  },
  "language_info": {
   "codemirror_mode": {
    "name": "ipython",
    "version": 3
   },
   "file_extension": ".py",
   "mimetype": "text/x-python",
   "name": "python",
   "nbconvert_exporter": "python",
   "pygments_lexer": "ipython3",
   "version": "3.10.7 (tags/v3.10.7:6cc6b13, Sep  5 2022, 14:08:36) [MSC v.1933 64 bit (AMD64)]"
  },
  "orig_nbformat": 4,
  "vscode": {
   "interpreter": {
    "hash": "62a2b8ad637c63baaf45e2cce9d4a159ca450ba6124aa82e6d4dc02e44296dbd"
   }
  }
 },
 "nbformat": 4,
 "nbformat_minor": 2
}
